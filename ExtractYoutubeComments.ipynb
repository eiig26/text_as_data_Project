{
  "cells": [
    {
      "cell_type": "code",
      "execution_count": null,
      "metadata": {
        "id": "J5w9wGKdErx9"
      },
      "outputs": [],
      "source": [
        "dev = \"Introduce your API Key\""
      ]
    },
    {
      "cell_type": "code",
      "execution_count": null,
      "metadata": {
        "id": "3eh1P4wrEx8h"
      },
      "outputs": [],
      "source": [
        "# Import lybraries\n",
        "import googleapiclient.discovery\n",
        "import pandas as pd\n",
        "\n",
        "# Configure the enviroments\n",
        "api_service_name = \"youtube\"\n",
        "api_version = \"v3\"\n",
        "DEVELOPER_KEY = dev\n",
        "\n",
        "youtube = googleapiclient.discovery.build(\n",
        "    api_service_name, api_version, developerKey=DEVELOPER_KEY)\n",
        "\n",
        "# Create a function for extract Youtube Comments\n",
        "def getcomments(video):\n",
        "  request = youtube.commentThreads().list(\n",
        "      part=\"snippet\",\n",
        "      videoId=video,\n",
        "      maxResults=100\n",
        "  )\n",
        "\n",
        "  comments = []\n",
        "\n",
        "  # Execute the request.\n",
        "  response = request.execute()\n",
        "\n",
        "  # Get the comments from the response.\n",
        "  for item in response['items']:\n",
        "      comment = item['snippet']['topLevelComment']['snippet']\n",
        "      public = item['snippet']['isPublic']\n",
        "      comments.append([\n",
        "          comment['authorDisplayName'],\n",
        "          comment['publishedAt'],\n",
        "          comment['likeCount'],\n",
        "          comment['textOriginal'],\n",
        "          comment['videoId'],\n",
        "          public\n",
        "      ])\n",
        "\n",
        "  while (1 == 1):\n",
        "    try:\n",
        "     nextPageToken = response['nextPageToken']\n",
        "    except KeyError:\n",
        "     break\n",
        "    nextPageToken = response['nextPageToken']\n",
        "    # Create a new request object with the next page token.\n",
        "    nextRequest = youtube.commentThreads().list(part=\"snippet\", videoId=video, maxResults=100, pageToken=nextPageToken)\n",
        "    # Execute the next request.\n",
        "    response = nextRequest.execute()\n",
        "    # Get the comments from the next response.\n",
        "    for item in response['items']:\n",
        "      comment = item['snippet']['topLevelComment']['snippet']\n",
        "      public = item['snippet']['isPublic']\n",
        "      comments.append([\n",
        "          comment['authorDisplayName'],\n",
        "          comment['publishedAt'],\n",
        "          comment['likeCount'],\n",
        "          comment['textOriginal'],\n",
        "          comment['videoId'],\n",
        "          public\n",
        "      ])\n",
        "\n",
        "  df2 = pd.DataFrame(comments, columns=['author', 'updated_at', 'like_count', 'text','video_id','public'])\n",
        "  return df2"
      ]
    },
    {
      "cell_type": "code",
      "execution_count": 7,
      "metadata": {
        "id": "OAXnoQR5FQAm"
      },
      "outputs": [],
      "source": [
        "# For Loop for List of IDs\n",
        "df = pd.DataFrame()\n",
        "videos_id_KH = [\"sHky_Xopyrw\", \"WkwZ_A49hb8\", \"1aZLL63wlTU\", \"tI_FqaAotA8\", \"4r-RioTaigs\", \"E1XIGOmyq_w\", \"YEOVT4DhZC0\", \"i2F9qGxTKcU\"]\n",
        "videos_id_D = [\"4aw5FziSc14\", \"4dOgWZsDB6Q\", \"npgogT5ir4M\", \"4IGd0BrrXoI\", \"SAL-mNE10TA\", \"VgsC_aBquUE\"]\n",
        "videos_id_T = [\"0RLhu9Ngchc\", \"diniBC70rdI\", \"quxzCrGk32s\", \"MWJefXpYIXY\", \"0l46PUAQu90\", \"tNGBB52inSk\", \"5OVOSIQOfpM\", \"rnWx6znh9PQ\"]\n",
        "for i in videos_id_T:\n",
        "  df2 = getcomments(i)\n",
        "  df = pd.concat([df, df2])\n",
        "\n",
        "# convert data frame to csv\n",
        "df.to_csv('youtube_commentsT.csv', index=False)\n"
      ]
    }
  ],
  "metadata": {
    "colab": {
      "provenance": []
    },
    "kernelspec": {
      "display_name": "Python 3",
      "name": "python3"
    },
    "language_info": {
      "name": "python"
    }
  },
  "nbformat": 4,
  "nbformat_minor": 0
}